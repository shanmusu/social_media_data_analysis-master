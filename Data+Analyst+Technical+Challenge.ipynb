{
 "cells": [
  {
   "cell_type": "markdown",
   "metadata": {},
   "source": [
    "## Challenge Scenario:\n",
    "Consider a scenario where you work for a social network company for academics. This social network includes full professors, assistant professors, postdoctoral students, graduate students and others as members. To increase engagement and interaction among the members of this academic community, your product manager wants to roll out a feature that ranks members in the network according to the number of times other people have viewed their social profiles.Working as the data team’s point person on this project, you are responsible for pulling together and manipulating relevant data to advise the product manager on how the data can drive this new feature forward.\n",
    "\n",
    "\n",
    "## Solution Steps:\n",
    "\n",
    "### Part-I\n",
    "### 1) Answer Project Manager's Questions\n",
    "      1.1) What is the average age of users by region?\n",
    "      1.2) Could you provide a breakdown of user title and number of user counts associated with each title?\n",
    "      1.3) Who is the top viewed user, based on internal profile views?\n",
    "      1.4) Can you provide a ranked list of the top 10 most viewed users based on internal profile views,                  supplemented with data from the user table?\n",
    "      1.5) Which region gets the most viewed users (based on internal profile views)?\n",
    "      \n",
    "### Part II\n",
    "### 2) Develop \"Rank for profile views\" feature\n",
    "      2.1) Understanding interaction among users\n",
    "          2.1.1) are users more interested in other users within the same Region ?\n",
    "          2.1.2) do users interact with other users who are in similar age group ?\n",
    "          2.1.3) do users prefer to connect another users with same title or not?\n",
    "          2.1.4) what's in the name ? \n",
    "          2.1.5) During which time of the day users are most active ?\n",
    "          \n",
    "      2.2) External Web Traffice on user profiles \n",
    "          2.2.1) Finding Missing Necessary information for External_Profile_Views\n",
    "          2.2.2) Users from which region gets the most extenal views ?\n",
    "          2.2.3) Which title gets more external attention ?\n",
    "          2.2.4) Which age group gets most external traffic ?\n",
    "          \n",
    "      2.3) Ranks for user profile views     \n",
    "      \n",
    "### Part III      \n",
    "### 3) Summary\n",
    "      3.1) Important Insights\n",
    "      3.2) Improvements in data\n",
    "      3.3) Moving ahead with product development\n",
    "---"
   ]
  },
  {
   "cell_type": "markdown",
   "metadata": {},
   "source": [
    "\n",
    "#### Import Libraries Connect to the Doximit 'Analyst' database"
   ]
  },
  {
   "cell_type": "code",
   "execution_count": 28,
   "metadata": {
    "collapsed": true
   },
   "outputs": [],
   "source": [
    "import pandas as pd\n",
    "import matplotlib.pyplot as plt\n",
    "import seaborn as sns\n",
    "import mysql.connector\n",
    "import collections\n",
    "import warnings\n",
    "import numpy as np\n",
    "warnings.filterwarnings('ignore')\n",
    "%matplotlib inline \n",
    "\n",
    "try: \n",
    "    #connection = mysql.connector.connect(user='', password='',host='',port=,database='')\n",
    "    cursor=connection.cursor(buffered=True)\n",
    "    \n",
    "except:\n",
    "    print(\"Error!! Not able to connect!!\")"
   ]
  },
  {
   "cell_type": "markdown",
   "metadata": {},
   "source": [
    "### 1) Answer Project Manager's Questions\n",
    "###      1.1) What is the average age of users by region?"
   ]
  },
  {
   "cell_type": "code",
   "execution_count": 29,
   "metadata": {},
   "outputs": [
    {
     "data": {
      "text/html": [
       "<div>\n",
       "<style>\n",
       "    .dataframe thead tr:only-child th {\n",
       "        text-align: right;\n",
       "    }\n",
       "\n",
       "    .dataframe thead th {\n",
       "        text-align: left;\n",
       "    }\n",
       "\n",
       "    .dataframe tbody tr th {\n",
       "        vertical-align: top;\n",
       "    }\n",
       "</style>\n",
       "<table border=\"1\" class=\"dataframe\">\n",
       "  <thead>\n",
       "    <tr style=\"text-align: right;\">\n",
       "      <th></th>\n",
       "      <th>region</th>\n",
       "      <th>avg_age</th>\n",
       "    </tr>\n",
       "  </thead>\n",
       "  <tbody>\n",
       "    <tr>\n",
       "      <th>0</th>\n",
       "      <td>Midwest</td>\n",
       "      <td>38.1995</td>\n",
       "    </tr>\n",
       "    <tr>\n",
       "      <th>1</th>\n",
       "      <td>Northeast</td>\n",
       "      <td>36.6343</td>\n",
       "    </tr>\n",
       "    <tr>\n",
       "      <th>2</th>\n",
       "      <td>Other</td>\n",
       "      <td>38.0028</td>\n",
       "    </tr>\n",
       "    <tr>\n",
       "      <th>3</th>\n",
       "      <td>South</td>\n",
       "      <td>37.9134</td>\n",
       "    </tr>\n",
       "    <tr>\n",
       "      <th>4</th>\n",
       "      <td>West</td>\n",
       "      <td>37.0780</td>\n",
       "    </tr>\n",
       "  </tbody>\n",
       "</table>\n",
       "</div>"
      ],
      "text/plain": [
       "      region  avg_age\n",
       "0    Midwest  38.1995\n",
       "1  Northeast  36.6343\n",
       "2      Other  38.0028\n",
       "3      South  37.9134\n",
       "4       West  37.0780"
      ]
     },
     "execution_count": 29,
     "metadata": {},
     "output_type": "execute_result"
    }
   ],
   "source": [
    "query=(\"SELECT region,Avg(age) as Average_Age FROM users GROUP BY region\")\n",
    "cursor.execute(query)\n",
    "Avg_Age=pd.DataFrame(cursor.fetchall()[1:],columns=['region','avg_age'])\n",
    "Avg_Age"
   ]
  },
  {
   "cell_type": "markdown",
   "metadata": {},
   "source": [
    "#### Let's have a look at distribuiton of age feature with respect to regions "
   ]
  },
  {
   "cell_type": "code",
   "execution_count": 30,
   "metadata": {},
   "outputs": [
    {
     "data": {
      "image/png": "[encoded data removed]",
      "text/plain": [
       "<matplotlib.figure.Figure at 0x125e6d510>"
      ]
     },
     "metadata": {},
     "output_type": "display_data"
    }
   ],
   "source": [
    "query=(\"SELECT region, age FROM users\")\n",
    "cursor.execute(query)\n",
    "data=pd.DataFrame(cursor.fetchall()[1:],columns=['region','age'])\n",
    "bins=16\n",
    "fig_size = plt.rcParams[\"figure.figsize\"]\n",
    "fig_size[0] = 10\n",
    "fig_size[1] = 8\n",
    "plt.rcParams[\"figure.figsize\"] = fig_size\n",
    "plt.hist(data['age'][data['region']=='Midwest'], bins, alpha=0.5, label='Midwest')\n",
    "plt.hist(data['age'][data['region']=='Northeast'], bins, alpha=0.5, label='Northeast')\n",
    "plt.hist(data['age'][data['region']=='Other'], bins, alpha=0.5, label='Other')\n",
    "plt.hist(data['age'][data['region']=='South'], bins, alpha=0.5, label='South')\n",
    "plt.hist(data['age'][data['region']=='West'], bins, alpha=0.5, label='West')\n",
    "plt.legend(loc='upper right')\n",
    "plt.title(\"Age Distrituion\")\n",
    "plt.show()\n",
    "plt.close()"
   ]
  },
  {
   "cell_type": "markdown",
   "metadata": {},
   "source": [
    "age histograms for all regions have very similar distriubtion where majority of users are aged between 20-30 years & number of users get decresed as the age increases. Interesting thing to notice that for each region we see a rise in users when age is above 59 & then again decresing trend continues after age of 64-65 years."
   ]
  },
  {
   "cell_type": "markdown",
   "metadata": {},
   "source": [
    "### 1.2) Could you provide a breakdown of user title and number of user counts associated with each title?"
   ]
  },
  {
   "cell_type": "code",
   "execution_count": 31,
   "metadata": {},
   "outputs": [
    {
     "data": {
      "text/html": [
       "<div>\n",
       "<style>\n",
       "    .dataframe thead tr:only-child th {\n",
       "        text-align: right;\n",
       "    }\n",
       "\n",
       "    .dataframe thead th {\n",
       "        text-align: left;\n",
       "    }\n",
       "\n",
       "    .dataframe tbody tr th {\n",
       "        vertical-align: top;\n",
       "    }\n",
       "</style>\n",
       "<table border=\"1\" class=\"dataframe\">\n",
       "  <thead>\n",
       "    <tr style=\"text-align: right;\">\n",
       "      <th></th>\n",
       "      <th>Title</th>\n",
       "      <th>Count</th>\n",
       "    </tr>\n",
       "  </thead>\n",
       "  <tbody>\n",
       "    <tr>\n",
       "      <th>0</th>\n",
       "      <td>Assistant professor</td>\n",
       "      <td>41977</td>\n",
       "    </tr>\n",
       "    <tr>\n",
       "      <th>1</th>\n",
       "      <td>Full professor</td>\n",
       "      <td>18907</td>\n",
       "    </tr>\n",
       "    <tr>\n",
       "      <th>2</th>\n",
       "      <td>Other</td>\n",
       "      <td>71231</td>\n",
       "    </tr>\n",
       "    <tr>\n",
       "      <th>3</th>\n",
       "      <td>Postdoctoral assistant</td>\n",
       "      <td>193847</td>\n",
       "    </tr>\n",
       "    <tr>\n",
       "      <th>4</th>\n",
       "      <td>Student</td>\n",
       "      <td>274038</td>\n",
       "    </tr>\n",
       "  </tbody>\n",
       "</table>\n",
       "</div>"
      ],
      "text/plain": [
       "                    Title   Count\n",
       "0     Assistant professor   41977\n",
       "1          Full professor   18907\n",
       "2                   Other   71231\n",
       "3  Postdoctoral assistant  193847\n",
       "4                 Student  274038"
      ]
     },
     "execution_count": 31,
     "metadata": {},
     "output_type": "execute_result"
    }
   ],
   "source": [
    "query=(\"SELECT title, count(*) from user_titles inner join users on users.title_id=user_titles.id group by user_titles.title\")\n",
    "cursor.execute(query)\n",
    "data=pd.DataFrame(cursor.fetchall(),columns=['Title','Count'])\n",
    "data"
   ]
  },
  {
   "cell_type": "markdown",
   "metadata": {},
   "source": [
    "#### Lets see the share of each title in user base"
   ]
  },
  {
   "cell_type": "code",
   "execution_count": 32,
   "metadata": {
    "scrolled": false
   },
   "outputs": [
    {
     "data": {
      "image/png": "[encoded data removed]",
      "text/plain": [
       "<matplotlib.figure.Figure at 0x12599e8d0>"
      ]
     },
     "metadata": {},
     "output_type": "display_data"
    }
   ],
   "source": [
    "plt.pie(data['Count'],labels = data['Title'], colors=['gold', 'yellowgreen', 'lightcoral', 'lightskyblue','cyan'], autopct='%1.1f%%', startangle=120) \n",
    "plt.axis('equal')\n",
    "plt.show()"
   ]
  },
  {
   "cell_type": "markdown",
   "metadata": {},
   "source": [
    "interesting thing to see here is 79% of our users are student+postdoctoral_assitants"
   ]
  },
  {
   "cell_type": "markdown",
   "metadata": {},
   "source": [
    "### 1.3) Who is the top viewed user, based on internal profile views?"
   ]
  },
  {
   "cell_type": "code",
   "execution_count": 33,
   "metadata": {},
   "outputs": [
    {
     "data": {
      "text/html": [
       "<div>\n",
       "<style>\n",
       "    .dataframe thead tr:only-child th {\n",
       "        text-align: right;\n",
       "    }\n",
       "\n",
       "    .dataframe thead th {\n",
       "        text-align: left;\n",
       "    }\n",
       "\n",
       "    .dataframe tbody tr th {\n",
       "        vertical-align: top;\n",
       "    }\n",
       "</style>\n",
       "<table border=\"1\" class=\"dataframe\">\n",
       "  <thead>\n",
       "    <tr style=\"text-align: right;\">\n",
       "      <th></th>\n",
       "      <th>User-ID</th>\n",
       "      <th>First Name</th>\n",
       "      <th>Last Name</th>\n",
       "      <th>Internal_Profile_Views</th>\n",
       "    </tr>\n",
       "  </thead>\n",
       "  <tbody>\n",
       "    <tr>\n",
       "      <th>0</th>\n",
       "      <td>1740253</td>\n",
       "      <td>Tommy</td>\n",
       "      <td>Proulx</td>\n",
       "      <td>406</td>\n",
       "    </tr>\n",
       "  </tbody>\n",
       "</table>\n",
       "</div>"
      ],
      "text/plain": [
       "   User-ID First Name Last Name  Internal_Profile_Views\n",
       "0  1740253      Tommy    Proulx                     406"
      ]
     },
     "execution_count": 33,
     "metadata": {},
     "output_type": "execute_result"
    }
   ],
   "source": [
    "query=(\"select viewed_user_id,firstname,lastname,count(viewed_user_id) as views from internal_profile_views inner join users on viewed_user_id=users.id group by viewed_user_id order by views desc limit 1 \")\n",
    "cursor.execute(query)\n",
    "data=pd.DataFrame(cursor.fetchall(),columns=['User-ID','First Name','Last Name','Internal_Profile_Views'])\n",
    "data"
   ]
  },
  {
   "cell_type": "markdown",
   "metadata": {},
   "source": [
    "###  1.4) Can you provide a ranked list of the top 10 most viewed users based on internal profile views,                  supplemented with data from the user table?"
   ]
  },
  {
   "cell_type": "code",
   "execution_count": 34,
   "metadata": {},
   "outputs": [
    {
     "data": {
      "text/html": [
       "<div>\n",
       "<style>\n",
       "    .dataframe thead tr:only-child th {\n",
       "        text-align: right;\n",
       "    }\n",
       "\n",
       "    .dataframe thead th {\n",
       "        text-align: left;\n",
       "    }\n",
       "\n",
       "    .dataframe tbody tr th {\n",
       "        vertical-align: top;\n",
       "    }\n",
       "</style>\n",
       "<table border=\"1\" class=\"dataframe\">\n",
       "  <thead>\n",
       "    <tr style=\"text-align: right;\">\n",
       "      <th></th>\n",
       "      <th>User-ID</th>\n",
       "      <th>First Name</th>\n",
       "      <th>Last Name</th>\n",
       "      <th>age</th>\n",
       "      <th>region</th>\n",
       "      <th>Views</th>\n",
       "    </tr>\n",
       "  </thead>\n",
       "  <tbody>\n",
       "    <tr>\n",
       "      <th>0</th>\n",
       "      <td>1740253</td>\n",
       "      <td>Tommy</td>\n",
       "      <td>Proulx</td>\n",
       "      <td>20</td>\n",
       "      <td>Northeast</td>\n",
       "      <td>406</td>\n",
       "    </tr>\n",
       "    <tr>\n",
       "      <th>1</th>\n",
       "      <td>2185215</td>\n",
       "      <td>Adam</td>\n",
       "      <td>Towns</td>\n",
       "      <td>21</td>\n",
       "      <td>Midwest</td>\n",
       "      <td>383</td>\n",
       "    </tr>\n",
       "    <tr>\n",
       "      <th>2</th>\n",
       "      <td>2632343</td>\n",
       "      <td>Diane</td>\n",
       "      <td>Holland</td>\n",
       "      <td>24</td>\n",
       "      <td>South</td>\n",
       "      <td>180</td>\n",
       "    </tr>\n",
       "    <tr>\n",
       "      <th>3</th>\n",
       "      <td>1287442</td>\n",
       "      <td>Edna</td>\n",
       "      <td>Castillo</td>\n",
       "      <td>29</td>\n",
       "      <td>Midwest</td>\n",
       "      <td>88</td>\n",
       "    </tr>\n",
       "    <tr>\n",
       "      <th>4</th>\n",
       "      <td>3086119</td>\n",
       "      <td>Savannah</td>\n",
       "      <td>Murphy</td>\n",
       "      <td>21</td>\n",
       "      <td>Northeast</td>\n",
       "      <td>88</td>\n",
       "    </tr>\n",
       "    <tr>\n",
       "      <th>5</th>\n",
       "      <td>2460133</td>\n",
       "      <td>Shirley</td>\n",
       "      <td>Medina</td>\n",
       "      <td>60</td>\n",
       "      <td>Midwest</td>\n",
       "      <td>82</td>\n",
       "    </tr>\n",
       "    <tr>\n",
       "      <th>6</th>\n",
       "      <td>979614</td>\n",
       "      <td>Sandra</td>\n",
       "      <td>Phillips</td>\n",
       "      <td>67</td>\n",
       "      <td>Midwest</td>\n",
       "      <td>68</td>\n",
       "    </tr>\n",
       "    <tr>\n",
       "      <th>7</th>\n",
       "      <td>218859</td>\n",
       "      <td>Howard</td>\n",
       "      <td>Rivera</td>\n",
       "      <td>27</td>\n",
       "      <td>Midwest</td>\n",
       "      <td>67</td>\n",
       "    </tr>\n",
       "    <tr>\n",
       "      <th>8</th>\n",
       "      <td>314218</td>\n",
       "      <td>Robert</td>\n",
       "      <td>Barron</td>\n",
       "      <td>65</td>\n",
       "      <td>South</td>\n",
       "      <td>61</td>\n",
       "    </tr>\n",
       "    <tr>\n",
       "      <th>9</th>\n",
       "      <td>2864377</td>\n",
       "      <td>Kathy</td>\n",
       "      <td>Saeteun</td>\n",
       "      <td>68</td>\n",
       "      <td>Midwest</td>\n",
       "      <td>47</td>\n",
       "    </tr>\n",
       "  </tbody>\n",
       "</table>\n",
       "</div>"
      ],
      "text/plain": [
       "   User-ID First Name Last Name  age     region  Views\n",
       "0  1740253      Tommy    Proulx   20  Northeast    406\n",
       "1  2185215       Adam     Towns   21    Midwest    383\n",
       "2  2632343      Diane   Holland   24      South    180\n",
       "3  1287442       Edna  Castillo   29    Midwest     88\n",
       "4  3086119   Savannah    Murphy   21  Northeast     88\n",
       "5  2460133    Shirley    Medina   60    Midwest     82\n",
       "6   979614     Sandra  Phillips   67    Midwest     68\n",
       "7   218859     Howard    Rivera   27    Midwest     67\n",
       "8   314218     Robert    Barron   65      South     61\n",
       "9  2864377      Kathy   Saeteun   68    Midwest     47"
      ]
     },
     "execution_count": 34,
     "metadata": {},
     "output_type": "execute_result"
    }
   ],
   "source": [
    "query=(\"select viewed_user_id,firstname,lastname,age,region,count(viewed_user_id) as views from internal_profile_views inner join users on viewed_user_id=users.id group by viewed_user_id order by views desc limit 10 \")\n",
    "cursor.execute(query)\n",
    "data=pd.DataFrame(cursor.fetchall(),columns=['User-ID','First Name','Last Name','age','region','Views'])\n",
    "data"
   ]
  },
  {
   "cell_type": "markdown",
   "metadata": {},
   "source": [
    "#### Lets visualize results in a bar chart"
   ]
  },
  {
   "cell_type": "code",
   "execution_count": 35,
   "metadata": {},
   "outputs": [
    {
     "data": {
      "image/png": "[encoded data removed]",
      "text/plain": [
       "<matplotlib.figure.Figure at 0x1176dd410>"
      ]
     },
     "metadata": {},
     "output_type": "display_data"
    }
   ],
   "source": [
    "sns.barplot(x='First Name',y='Views',data=data)\n",
    "plt.show()"
   ]
  },
  {
   "cell_type": "markdown",
   "metadata": {},
   "source": [
    "###  1.5) Which region gets the most viewed users (based on internal profile views)?"
   ]
  },
  {
   "cell_type": "code",
   "execution_count": 36,
   "metadata": {},
   "outputs": [
    {
     "data": {
      "text/html": [
       "<div>\n",
       "<style>\n",
       "    .dataframe thead tr:only-child th {\n",
       "        text-align: right;\n",
       "    }\n",
       "\n",
       "    .dataframe thead th {\n",
       "        text-align: left;\n",
       "    }\n",
       "\n",
       "    .dataframe tbody tr th {\n",
       "        vertical-align: top;\n",
       "    }\n",
       "</style>\n",
       "<table border=\"1\" class=\"dataframe\">\n",
       "  <thead>\n",
       "    <tr style=\"text-align: right;\">\n",
       "      <th></th>\n",
       "      <th>Region</th>\n",
       "      <th>Views</th>\n",
       "    </tr>\n",
       "  </thead>\n",
       "  <tbody>\n",
       "    <tr>\n",
       "      <th>0</th>\n",
       "      <td>Midwest</td>\n",
       "      <td>2908</td>\n",
       "    </tr>\n",
       "    <tr>\n",
       "      <th>1</th>\n",
       "      <td>Northeast</td>\n",
       "      <td>2780</td>\n",
       "    </tr>\n",
       "    <tr>\n",
       "      <th>2</th>\n",
       "      <td>South</td>\n",
       "      <td>2332</td>\n",
       "    </tr>\n",
       "    <tr>\n",
       "      <th>3</th>\n",
       "      <td>West</td>\n",
       "      <td>1951</td>\n",
       "    </tr>\n",
       "    <tr>\n",
       "      <th>4</th>\n",
       "      <td>Other</td>\n",
       "      <td>835</td>\n",
       "    </tr>\n",
       "  </tbody>\n",
       "</table>\n",
       "</div>"
      ],
      "text/plain": [
       "      Region  Views\n",
       "0    Midwest   2908\n",
       "1  Northeast   2780\n",
       "2      South   2332\n",
       "3       West   1951\n",
       "4      Other    835"
      ]
     },
     "execution_count": 36,
     "metadata": {},
     "output_type": "execute_result"
    }
   ],
   "source": [
    "query=(\"select region,count(viewed_user_id) as views from internal_profile_views inner join users on viewed_user_id=users.id group by region order by views desc\")\n",
    "cursor.execute(query)\n",
    "data=pd.DataFrame(cursor.fetchall(),columns=['Region','Views'])\n",
    "data"
   ]
  },
  {
   "cell_type": "code",
   "execution_count": 37,
   "metadata": {},
   "outputs": [
    {
     "data": {
      "image/png": "[encoded data removed]",
      "text/plain": [
       "<matplotlib.figure.Figure at 0x125df0150>"
      ]
     },
     "metadata": {},
     "output_type": "display_data"
    }
   ],
   "source": [
    "plt.pie(data['Views'],labels = data['Region'], colors=['gold', 'yellowgreen', 'lightcoral', 'lightskyblue','cyan'], autopct='%1.1f%%', startangle=120) \n",
    "plt.axis('equal')\n",
    "plt.show()"
   ]
  },
  {
   "cell_type": "markdown",
   "metadata": {
    "collapsed": true
   },
   "source": [
    "Top two regions which are Most viewed users(internal profile views) are Midewest & Northeast. "
   ]
  },
  {
   "cell_type": "markdown",
   "metadata": {},
   "source": [
    "### 2) Develop \"Rank for profile views\" feature\n",
    "###      2.1) Understanding interaction among users\n",
    "---\n",
    "###               2.1.1) are users more interested in other users within the same Region ?"
   ]
  },
  {
   "cell_type": "code",
   "execution_count": 38,
   "metadata": {},
   "outputs": [
    {
     "data": {
      "text/html": [
       "<div>\n",
       "<style>\n",
       "    .dataframe thead tr:only-child th {\n",
       "        text-align: right;\n",
       "    }\n",
       "\n",
       "    .dataframe thead th {\n",
       "        text-align: left;\n",
       "    }\n",
       "\n",
       "    .dataframe tbody tr th {\n",
       "        vertical-align: top;\n",
       "    }\n",
       "</style>\n",
       "<table border=\"1\" class=\"dataframe\">\n",
       "  <thead>\n",
       "    <tr style=\"text-align: right;\">\n",
       "      <th></th>\n",
       "      <th>Region</th>\n",
       "      <th>viewed_region</th>\n",
       "      <th>Percentage</th>\n",
       "    </tr>\n",
       "  </thead>\n",
       "  <tbody>\n",
       "    <tr>\n",
       "      <th>0</th>\n",
       "      <td>Midwest</td>\n",
       "      <td>Midwest</td>\n",
       "      <td>24.136637</td>\n",
       "    </tr>\n",
       "    <tr>\n",
       "      <th>1</th>\n",
       "      <td>Midwest</td>\n",
       "      <td>Northeast</td>\n",
       "      <td>23.775934</td>\n",
       "    </tr>\n",
       "    <tr>\n",
       "      <th>2</th>\n",
       "      <td>Midwest</td>\n",
       "      <td>Other</td>\n",
       "      <td>7.966805</td>\n",
       "    </tr>\n",
       "    <tr>\n",
       "      <th>3</th>\n",
       "      <td>Midwest</td>\n",
       "      <td>South</td>\n",
       "      <td>23.112033</td>\n",
       "    </tr>\n",
       "    <tr>\n",
       "      <th>4</th>\n",
       "      <td>Midwest</td>\n",
       "      <td>West</td>\n",
       "      <td>18.464730</td>\n",
       "    </tr>\n",
       "  </tbody>\n",
       "</table>\n",
       "</div>"
      ],
      "text/plain": [
       "    Region viewed_region  Percentage\n",
       "0  Midwest       Midwest   24.136637\n",
       "1  Midwest     Northeast   23.775934\n",
       "2  Midwest         Other    7.966805\n",
       "3  Midwest         South   23.112033\n",
       "4  Midwest          West   18.464730"
      ]
     },
     "execution_count": 38,
     "metadata": {},
     "output_type": "execute_result"
    }
   ],
   "source": [
    "import itertools \n",
    "query=(\"select internal_profile_views.id,user_id,region,age,title_id from internal_profile_views left join users on user_id=users.id\")\n",
    "cursor.execute(query)\n",
    "viewer=pd.DataFrame(cursor.fetchall(),columns=['IPV_id','viewer','viewer_region','viewer_age','viewer_title'])\n",
    "\n",
    "query=(\"select internal_profile_views.id,viewed_user_id,region,age,title_id from internal_profile_views left join users on viewed_user_id=users.id\")\n",
    "cursor.execute(query)\n",
    "viewed=pd.DataFrame(cursor.fetchall(),columns=['IPV_id','viewed','viewed_region','viewed_age','viewed_title'])\n",
    "\n",
    "\n",
    "data=viewer.merge(viewed,on='IPV_id')\n",
    "\n",
    "data['viewer_title'][data['viewer_title']==2]='Ass.Prof.'\n",
    "data['viewer_title'][data['viewer_title']==1]='Full prof.'\n",
    "data['viewer_title'][data['viewer_title']==6]='Other'\n",
    "data['viewer_title'][data['viewer_title']==3]='PD.Ast.'\n",
    "data['viewer_title'][data['viewer_title']==5]='Student'\n",
    "\n",
    "data['viewed_title'][data['viewed_title']==2]='Assistant Professor'\n",
    "data['viewed_title'][data['viewed_title']==1]='Full professor'\n",
    "data['viewed_title'][data['viewed_title']==6]='Other'\n",
    "data['viewed_title'][data['viewed_title']==3]='Postdoctoral Assistant'\n",
    "data['viewed_title'][data['viewed_title']==5]='Student'\n",
    "\n",
    "\n",
    "\n",
    "data_dict={}\n",
    "for viewer_region,viewed_region in list(itertools.permutations(data['viewer_region'].unique(), 2)):\n",
    "    data_dict[viewer_region+'_'+viewed_region]=float(len(data[(data['viewer_region']==viewer_region) & (data['viewed_region']==viewed_region)])/float(len(data[data[\"viewer_region\"]==viewer_region])))*100\n",
    "    \n",
    "for same_region in data['viewer_region'].unique():\n",
    "    data_dict[same_region+'_'+same_region]=(len(data[(data['viewer_region']==same_region) & (data['viewed_region']==same_region)])/float(len(data[data[\"viewer_region\"]==viewer_region])))*100\n",
    "\n",
    "data_dict=collections.OrderedDict(sorted(data_dict.items()))\n",
    "\n",
    "temp=pd.DataFrame(columns=['Region','viewed_region','Percentage'])\n",
    "temp['Region']=['Midwest','Midwest','Midwest','Midwest','Midwest','Northeast','Northeast','Northeast','Northeast','Northeast',\n",
    "                'Other','Other','Other','Other','Other','South','South','South','South','South','West','West','West','West','West']\n",
    "\n",
    "temp_list=[]\n",
    "for key in data_dict.keys():\n",
    "    temp_list.append(key.split('_')[1])\n",
    "\n",
    "temp['viewed_region']=temp_list\n",
    "temp['Percentage']=data_dict.values()\n",
    "temp.head()"
   ]
  },
  {
   "cell_type": "code",
   "execution_count": 39,
   "metadata": {},
   "outputs": [
    {
     "data": {
      "image/png": "[encoded data removed]",
      "text/plain": [
       "<matplotlib.figure.Figure at 0x10e1716d0>"
      ]
     },
     "metadata": {},
     "output_type": "display_data"
    }
   ],
   "source": [
    "#Creating Visualization\n",
    "fig, (ax) = plt.subplots(1,1,figsize=(16,8))\n",
    "sns.barplot(x='Region',y='Percentage', hue=\"viewed_region\", data=temp,ax=ax)\n",
    "plt.show()"
   ]
  },
  {
   "cell_type": "markdown",
   "metadata": {},
   "source": [
    "#### User's from every region seems interested in Northwest & Midwest (biasness toward these regions could be the result of \"our dataset having more records for these region \")"
   ]
  },
  {
   "cell_type": "markdown",
   "metadata": {},
   "source": [
    "### 2.1.2) do users interact with other users who are in similar age group ?"
   ]
  },
  {
   "cell_type": "code",
   "execution_count": 40,
   "metadata": {},
   "outputs": [
    {
     "data": {
      "text/plain": [
       "<matplotlib.axes._subplots.AxesSubplot at 0x115640ed0>"
      ]
     },
     "execution_count": 40,
     "metadata": {},
     "output_type": "execute_result"
    },
    {
     "data": {
      "image/png": "[encoded data removed]",
      "text/plain": [
       "<matplotlib.figure.Figure at 0x1153620d0>"
      ]
     },
     "metadata": {},
     "output_type": "display_data"
    }
   ],
   "source": [
    "fig, (ax) = plt.subplots(1,1,figsize=(15,8))\n",
    "bins = [20, 30, 40, 50, 60, 70, 80,90]\n",
    "data['viewer_age_group'] = pd.cut(data['viewer_age'], bins)\n",
    "sns.boxplot(y=data['viewer_age_group'],x=data['viewed_age'],ax=ax)"
   ]
  },
  {
   "cell_type": "markdown",
   "metadata": {},
   "source": [
    "#### we don't see major biasness depending on the age group"
   ]
  },
  {
   "cell_type": "markdown",
   "metadata": {},
   "source": [
    "### 2.1.3) do users prefer to connect another users with same title or not?"
   ]
  },
  {
   "cell_type": "code",
   "execution_count": 41,
   "metadata": {},
   "outputs": [
    {
     "data": {
      "image/png": "[encoded data removed]",
      "text/plain": [
       "<matplotlib.figure.Figure at 0x1156f6c50>"
      ]
     },
     "metadata": {},
     "output_type": "display_data"
    }
   ],
   "source": [
    "fig, (ax) = plt.subplots(1,1,figsize=(15,8))\n",
    "sns.countplot(x='viewer_title', hue=\"viewed_title\", data=data,ax=ax)\n",
    "plt.show()"
   ]
  },
  {
   "cell_type": "markdown",
   "metadata": {},
   "source": [
    "#### Most of the users(all titles) are interested in Full Professor's profiles"
   ]
  },
  {
   "cell_type": "markdown",
   "metadata": {},
   "source": [
    "### 2.1.4) what's in the name ? \n",
    "In many countries last name of person represents the cast or religion or ethnic group of a person, It would be really interesting to see if the the users are trying to view & connect with other users having same lastname. "
   ]
  },
  {
   "cell_type": "code",
   "execution_count": 42,
   "metadata": {},
   "outputs": [
    {
     "data": {
      "text/html": [
       "<div>\n",
       "<style>\n",
       "    .dataframe thead tr:only-child th {\n",
       "        text-align: right;\n",
       "    }\n",
       "\n",
       "    .dataframe thead th {\n",
       "        text-align: left;\n",
       "    }\n",
       "\n",
       "    .dataframe tbody tr th {\n",
       "        vertical-align: top;\n",
       "    }\n",
       "</style>\n",
       "<table border=\"1\" class=\"dataframe\">\n",
       "  <thead>\n",
       "    <tr style=\"text-align: right;\">\n",
       "      <th></th>\n",
       "      <th>IPV_id</th>\n",
       "      <th>viewer</th>\n",
       "      <th>viewer_lname</th>\n",
       "      <th>timestamp</th>\n",
       "      <th>viewed</th>\n",
       "      <th>viewed_lname</th>\n",
       "    </tr>\n",
       "  </thead>\n",
       "  <tbody>\n",
       "    <tr>\n",
       "      <th>198</th>\n",
       "      <td>3343</td>\n",
       "      <td>71554</td>\n",
       "      <td>Smith</td>\n",
       "      <td>2014-01-01 19:49:13</td>\n",
       "      <td>3517304</td>\n",
       "      <td>Smith</td>\n",
       "    </tr>\n",
       "    <tr>\n",
       "      <th>211</th>\n",
       "      <td>4591</td>\n",
       "      <td>72053</td>\n",
       "      <td>Smith</td>\n",
       "      <td>2014-01-01 02:52:34</td>\n",
       "      <td>2075696</td>\n",
       "      <td>Smith</td>\n",
       "    </tr>\n",
       "    <tr>\n",
       "      <th>4194</th>\n",
       "      <td>2860</td>\n",
       "      <td>1643975</td>\n",
       "      <td>Rodriguez</td>\n",
       "      <td>2014-01-01 17:13:20</td>\n",
       "      <td>2515562</td>\n",
       "      <td>Rodriguez</td>\n",
       "    </tr>\n",
       "    <tr>\n",
       "      <th>4395</th>\n",
       "      <td>9468</td>\n",
       "      <td>1709560</td>\n",
       "      <td>Lee</td>\n",
       "      <td>2014-01-01 13:49:50</td>\n",
       "      <td>1292683</td>\n",
       "      <td>Lee</td>\n",
       "    </tr>\n",
       "    <tr>\n",
       "      <th>4745</th>\n",
       "      <td>10224</td>\n",
       "      <td>1834789</td>\n",
       "      <td>Brooks</td>\n",
       "      <td>2014-01-01 02:01:18</td>\n",
       "      <td>1298196</td>\n",
       "      <td>Brooks</td>\n",
       "    </tr>\n",
       "    <tr>\n",
       "      <th>5066</th>\n",
       "      <td>5007</td>\n",
       "      <td>1976553</td>\n",
       "      <td>Malley</td>\n",
       "      <td>2014-01-01 05:10:23</td>\n",
       "      <td>3352668</td>\n",
       "      <td>Malley</td>\n",
       "    </tr>\n",
       "    <tr>\n",
       "      <th>8133</th>\n",
       "      <td>10237</td>\n",
       "      <td>3272052</td>\n",
       "      <td>Brown</td>\n",
       "      <td>2014-01-01 02:06:56</td>\n",
       "      <td>3459491</td>\n",
       "      <td>Brown</td>\n",
       "    </tr>\n",
       "    <tr>\n",
       "      <th>8317</th>\n",
       "      <td>8823</td>\n",
       "      <td>3341452</td>\n",
       "      <td>Clark</td>\n",
       "      <td>2014-01-01 10:17:58</td>\n",
       "      <td>969366</td>\n",
       "      <td>Clark</td>\n",
       "    </tr>\n",
       "  </tbody>\n",
       "</table>\n",
       "</div>"
      ],
      "text/plain": [
       "      IPV_id   viewer viewer_lname           timestamp   viewed viewed_lname\n",
       "198     3343    71554        Smith 2014-01-01 19:49:13  3517304        Smith\n",
       "211     4591    72053        Smith 2014-01-01 02:52:34  2075696        Smith\n",
       "4194    2860  1643975    Rodriguez 2014-01-01 17:13:20  2515562    Rodriguez\n",
       "4395    9468  1709560          Lee 2014-01-01 13:49:50  1292683          Lee\n",
       "4745   10224  1834789       Brooks 2014-01-01 02:01:18  1298196       Brooks\n",
       "5066    5007  1976553       Malley 2014-01-01 05:10:23  3352668       Malley\n",
       "8133   10237  3272052        Brown 2014-01-01 02:06:56  3459491        Brown\n",
       "8317    8823  3341452        Clark 2014-01-01 10:17:58   969366        Clark"
      ]
     },
     "execution_count": 42,
     "metadata": {},
     "output_type": "execute_result"
    }
   ],
   "source": [
    "query=(\"select internal_profile_views.id,user_id,lastname,created_at from internal_profile_views inner join users on users.id=user_id\")\n",
    "cursor.execute(query)\n",
    "viewer_lname=pd.DataFrame(cursor.fetchall(),columns=['IPV_id','viewer','viewer_lname','timestamp'])\n",
    "\n",
    "query=(\"select internal_profile_views.id,viewed_user_id,lastname from internal_profile_views inner join users on users.id=viewed_user_id\")\n",
    "cursor.execute(query)\n",
    "viewed_lname=pd.DataFrame(cursor.fetchall(),columns=['IPV_id','viewed','viewed_lname'])\n",
    "\n",
    "combined=viewer_lname.merge(viewed_lname,on='IPV_id')\n",
    "combined[combined['viewer_lname']==combined['viewed_lname']]"
   ]
  },
  {
   "cell_type": "markdown",
   "metadata": {},
   "source": [
    "#### only 8 lastname matchs found,but it would be good to consider this analysis on a much larger dataset."
   ]
  },
  {
   "cell_type": "markdown",
   "metadata": {},
   "source": [
    "### 2.1.5) During which hours users are most active ?\n",
    "It would be nice to also see the distibution of user views based on months & days but In our dataset most of views are recoded on 2014-01-01(single day) so it won't be useful"
   ]
  },
  {
   "cell_type": "code",
   "execution_count": 43,
   "metadata": {},
   "outputs": [
    {
     "data": {
      "image/png": "[encoded data removed]",
      "text/plain": [
       "<matplotlib.figure.Figure at 0x124c07410>"
      ]
     },
     "metadata": {},
     "output_type": "display_data"
    }
   ],
   "source": [
    "combined['hour'] = combined['timestamp'].dt.hour\n",
    "sns.countplot(combined['hour'])\n",
    "plt.show()"
   ]
  },
  {
   "cell_type": "markdown",
   "metadata": {},
   "source": [
    "Interesting!! most views are recoded in the night (1 am to 5am). We expected to see a different pattern."
   ]
  },
  {
   "cell_type": "markdown",
   "metadata": {},
   "source": [
    "### 2.2) Web Traffice on user profiles \n",
    "In this part we will concentract on external traffice which is comming from outside our social network.\n",
    "challege here is that under the external_profile_view we don't have user_id & in order fetch key details about\n",
    "user we need help of other available data tables so we will try to find out user_id by joining this table\n",
    "with user_profile_urls.\n",
    "Offcourse ther will be some data loss where profile_url & public_profile_url are not same but since time \n",
    "is constraint we will move ahead with this strategy."
   ]
  },
  {
   "cell_type": "markdown",
   "metadata": {
    "collapsed": true
   },
   "source": [
    "### 2.2.1) Finding Missing Necessary information for External_Profile_Views"
   ]
  },
  {
   "cell_type": "code",
   "execution_count": 44,
   "metadata": {},
   "outputs": [
    {
     "data": {
      "text/html": [
       "<div>\n",
       "<style>\n",
       "    .dataframe thead tr:only-child th {\n",
       "        text-align: right;\n",
       "    }\n",
       "\n",
       "    .dataframe thead th {\n",
       "        text-align: left;\n",
       "    }\n",
       "\n",
       "    .dataframe tbody tr th {\n",
       "        vertical-align: top;\n",
       "    }\n",
       "</style>\n",
       "<table border=\"1\" class=\"dataframe\">\n",
       "  <thead>\n",
       "    <tr style=\"text-align: right;\">\n",
       "      <th></th>\n",
       "      <th>User-ID</th>\n",
       "      <th>url</th>\n",
       "      <th>View_count</th>\n",
       "      <th>firstname</th>\n",
       "      <th>lastname</th>\n",
       "      <th>age</th>\n",
       "      <th>region</th>\n",
       "      <th>title</th>\n",
       "      <th>age_group</th>\n",
       "    </tr>\n",
       "  </thead>\n",
       "  <tbody>\n",
       "    <tr>\n",
       "      <th>193057</th>\n",
       "      <td>2871984</td>\n",
       "      <td>/pub/patricia-valenzuela</td>\n",
       "      <td>1124</td>\n",
       "      <td>Patricia</td>\n",
       "      <td>Valenzuela</td>\n",
       "      <td>44.0</td>\n",
       "      <td>Other</td>\n",
       "      <td>Student</td>\n",
       "      <td>(40, 50]</td>\n",
       "    </tr>\n",
       "    <tr>\n",
       "      <th>193058</th>\n",
       "      <td>3172400</td>\n",
       "      <td>/pub/patricia-valenzuela</td>\n",
       "      <td>1124</td>\n",
       "      <td>Patricia</td>\n",
       "      <td>Valenzuela</td>\n",
       "      <td>29.0</td>\n",
       "      <td>Northeast</td>\n",
       "      <td>Full prof.</td>\n",
       "      <td>(20, 30]</td>\n",
       "    </tr>\n",
       "    <tr>\n",
       "      <th>193841</th>\n",
       "      <td>3197557</td>\n",
       "      <td>/cv/clayton-ritchie</td>\n",
       "      <td>764</td>\n",
       "      <td>Clayton</td>\n",
       "      <td>Ritchie</td>\n",
       "      <td>85.0</td>\n",
       "      <td>Midwest</td>\n",
       "      <td>Full prof.</td>\n",
       "      <td>(80, 90]</td>\n",
       "    </tr>\n",
       "    <tr>\n",
       "      <th>222207</th>\n",
       "      <td>3766973</td>\n",
       "      <td>/cv/jose-vawter</td>\n",
       "      <td>506</td>\n",
       "      <td>Jose</td>\n",
       "      <td>Vawter</td>\n",
       "      <td>26.0</td>\n",
       "      <td>South</td>\n",
       "      <td>Ass.Prof.</td>\n",
       "      <td>(20, 30]</td>\n",
       "    </tr>\n",
       "    <tr>\n",
       "      <th>183428</th>\n",
       "      <td>2960427</td>\n",
       "      <td>/pub/peter-montgomery</td>\n",
       "      <td>496</td>\n",
       "      <td>Peter</td>\n",
       "      <td>Montgomery</td>\n",
       "      <td>31.0</td>\n",
       "      <td>South</td>\n",
       "      <td>Full prof.</td>\n",
       "      <td>(30, 40]</td>\n",
       "    </tr>\n",
       "    <tr>\n",
       "      <th>167677</th>\n",
       "      <td>2619727</td>\n",
       "      <td>/cv/arthur-parks</td>\n",
       "      <td>431</td>\n",
       "      <td>Arthur</td>\n",
       "      <td>Parks</td>\n",
       "      <td>76.0</td>\n",
       "      <td>Northeast</td>\n",
       "      <td>Other</td>\n",
       "      <td>(70, 80]</td>\n",
       "    </tr>\n",
       "    <tr>\n",
       "      <th>132454</th>\n",
       "      <td>1933239</td>\n",
       "      <td>/cv/gloria-tilley</td>\n",
       "      <td>428</td>\n",
       "      <td>Gloria</td>\n",
       "      <td>Tilley</td>\n",
       "      <td>26.0</td>\n",
       "      <td>West</td>\n",
       "      <td>Student</td>\n",
       "      <td>(20, 30]</td>\n",
       "    </tr>\n",
       "    <tr>\n",
       "      <th>168510</th>\n",
       "      <td>2644348</td>\n",
       "      <td>/pub/pam-porada</td>\n",
       "      <td>399</td>\n",
       "      <td>Pam</td>\n",
       "      <td>Porada</td>\n",
       "      <td>22.0</td>\n",
       "      <td>Midwest</td>\n",
       "      <td>Ass.Prof.</td>\n",
       "      <td>(20, 30]</td>\n",
       "    </tr>\n",
       "    <tr>\n",
       "      <th>151003</th>\n",
       "      <td>2297959</td>\n",
       "      <td>/pub/chris-mccullough</td>\n",
       "      <td>373</td>\n",
       "      <td>Chris</td>\n",
       "      <td>Mccullough</td>\n",
       "      <td>22.0</td>\n",
       "      <td>Northeast</td>\n",
       "      <td>Student</td>\n",
       "      <td>(20, 30]</td>\n",
       "    </tr>\n",
       "    <tr>\n",
       "      <th>75711</th>\n",
       "      <td>999089</td>\n",
       "      <td>/cv/valerie-vasquez</td>\n",
       "      <td>367</td>\n",
       "      <td>Valerie</td>\n",
       "      <td>Vasquez</td>\n",
       "      <td>22.0</td>\n",
       "      <td>South</td>\n",
       "      <td>Full prof.</td>\n",
       "      <td>(20, 30]</td>\n",
       "    </tr>\n",
       "  </tbody>\n",
       "</table>\n",
       "</div>"
      ],
      "text/plain": [
       "        User-ID                       url  View_count firstname    lastname  \\\n",
       "193057  2871984  /pub/patricia-valenzuela        1124  Patricia  Valenzuela   \n",
       "193058  3172400  /pub/patricia-valenzuela        1124  Patricia  Valenzuela   \n",
       "193841  3197557       /cv/clayton-ritchie         764   Clayton     Ritchie   \n",
       "222207  3766973           /cv/jose-vawter         506      Jose      Vawter   \n",
       "183428  2960427     /pub/peter-montgomery         496     Peter  Montgomery   \n",
       "167677  2619727          /cv/arthur-parks         431    Arthur       Parks   \n",
       "132454  1933239         /cv/gloria-tilley         428    Gloria      Tilley   \n",
       "168510  2644348           /pub/pam-porada         399       Pam      Porada   \n",
       "151003  2297959     /pub/chris-mccullough         373     Chris  Mccullough   \n",
       "75711    999089       /cv/valerie-vasquez         367   Valerie     Vasquez   \n",
       "\n",
       "         age     region       title age_group  \n",
       "193057  44.0      Other     Student  (40, 50]  \n",
       "193058  29.0  Northeast  Full prof.  (20, 30]  \n",
       "193841  85.0    Midwest  Full prof.  (80, 90]  \n",
       "222207  26.0      South   Ass.Prof.  (20, 30]  \n",
       "183428  31.0      South  Full prof.  (30, 40]  \n",
       "167677  76.0  Northeast       Other  (70, 80]  \n",
       "132454  26.0       West     Student  (20, 30]  \n",
       "168510  22.0    Midwest   Ass.Prof.  (20, 30]  \n",
       "151003  22.0  Northeast     Student  (20, 30]  \n",
       "75711   22.0      South  Full prof.  (20, 30]  "
      ]
     },
     "execution_count": 44,
     "metadata": {},
     "output_type": "execute_result"
    }
   ],
   "source": [
    "query=(\"select user_id,public_profile_url,unique_PageViews from external_profile_views inner join user_profile_urls on profile_url=public_profile_url\")\n",
    "cursor.execute(query)\n",
    "data_external=pd.DataFrame(cursor.fetchall(),columns=['User-ID','url','View_count'])\n",
    "query=(\"select * from users\")\n",
    "cursor.execute(query)\n",
    "data_users=pd.DataFrame(cursor.fetchall(),columns=['User-ID','firstname','lastname','age','region','title'])\n",
    "data_users['title'][data_users['title']==2]='Ass.Prof.'\n",
    "data_users['title'][data_users['title']==1]='Full prof.'\n",
    "data_users['title'][data_users['title']==6]='Other'\n",
    "data_users['title'][data_users['title']==3]='PD.Ast.'\n",
    "data_users['title'][data_users['title']==5]='Student'\n",
    "data=data_external.merge(data_users,on='User-ID')\n",
    "bins = [20, 30, 40, 50, 60, 70, 80,90]\n",
    "data['age_group'] = pd.cut(data['age'], bins)\n",
    "data=data.sort_values(by=['View_count'],ascending=False)\n",
    "External_data=data\n",
    "data.head(10)"
   ]
  },
  {
   "cell_type": "markdown",
   "metadata": {},
   "source": [
    "#### was there any data loss !!"
   ]
  },
  {
   "cell_type": "code",
   "execution_count": 45,
   "metadata": {},
   "outputs": [
    {
     "name": "stdout",
     "output_type": "stream",
     "text": [
      "('users for whom we got user_id & other feature details', 249048)\n",
      "('actual users in external_profile_views table', 335636)\n",
      "('loss', 86588)\n"
     ]
    }
   ],
   "source": [
    "# for how many users we are not able to identify  id \n",
    "query=(\"select count(id) from external_profile_views\")\n",
    "cursor.execute(query)\n",
    "ndata=cursor.fetchall()[0][0]\n",
    "loss=(ndata-len(data_external))\n",
    "print(\"users for whom we got user_id & other feature details\",len(data_external))\n",
    "print(\"actual users in external_profile_views table\",ndata)\n",
    "print(\"loss\",loss)"
   ]
  },
  {
   "cell_type": "markdown",
   "metadata": {},
   "source": [
    "#### could we saved more data: \n",
    "Yes,we can further reduce loss by breaking up profile url (for missing user_ids) & fetching the name & finding id's by joining with users table but that will require lot of extra effor & we have limited time!"
   ]
  },
  {
   "cell_type": "markdown",
   "metadata": {},
   "source": [
    "### 2.2.2) Users from which region gets the most extenal views ?"
   ]
  },
  {
   "cell_type": "code",
   "execution_count": 49,
   "metadata": {},
   "outputs": [
    {
     "data": {
      "image/png": "[encoded data removed]",
      "text/plain": [
       "<matplotlib.figure.Figure at 0x10eabb510>"
      ]
     },
     "metadata": {},
     "output_type": "display_data"
    }
   ],
   "source": [
    "data_dict={}\n",
    "for region in data['region'].unique():\n",
    "    data_dict[region]=(data['View_count'][data['region']==region].sum())\n",
    "plt.title(\"Views Per Region\")\n",
    "sns.barplot(data_dict.values(),data_dict.keys(),orient='h')\n",
    "plt.show()"
   ]
  },
  {
   "cell_type": "markdown",
   "metadata": {},
   "source": [
    "### 2.2.3) Which title gets more external attention ?"
   ]
  },
  {
   "cell_type": "code",
   "execution_count": 50,
   "metadata": {
    "scrolled": false
   },
   "outputs": [
    {
     "data": {
      "image/png": "[encoded data removed]",
      "text/plain": [
       "<matplotlib.figure.Figure at 0x125d7e750>"
      ]
     },
     "metadata": {},
     "output_type": "display_data"
    }
   ],
   "source": [
    "data_dict={}\n",
    "for title in data['title'].unique():\n",
    "    data_dict[title]=data['View_count'][data['title']==title].sum()\n",
    "\n",
    "plt.pie(data_dict.values(),labels = data_dict.keys(), colors=['gold', 'yellowgreen', 'lightcoral', 'lightskyblue','cyan'], autopct='%1.1f%%', startangle=120) \n",
    "plt.title(\"external views share of each title\")\n",
    "plt.axis('equal')\n",
    "plt.show()"
   ]
  },
  {
   "cell_type": "markdown",
   "metadata": {},
   "source": [
    "### 2.2.4) Which age group gets most external traffic ?"
   ]
  },
  {
   "cell_type": "code",
   "execution_count": 51,
   "metadata": {},
   "outputs": [
    {
     "data": {
      "image/png": "[encoded data removed]",
      "text/plain": [
       "<matplotlib.figure.Figure at 0x123f5ae10>"
      ]
     },
     "metadata": {},
     "output_type": "display_data"
    }
   ],
   "source": [
    "data_dict={}\n",
    "for age in data['age_group'].unique():\n",
    "    data_dict[age]=data['View_count'][data['age_group']==age].sum()\n",
    "plt.title(\"Traffic based on age group\")\n",
    "sns.barplot(data_dict.values(),data_dict.keys(),orient='h')\n",
    "plt.show()"
   ]
  },
  {
   "cell_type": "markdown",
   "metadata": {},
   "source": [
    "### 2.3) Ranks for user profile views  \n",
    "To assigne a rank to each user for profile views I will considering both internal & external views. the most simple model will be take the sum of both internal & external views and assign the user with the rank according to total views.\n",
    "### but in more practicel scenario we need to consider some other factor's in account such as \"how active user is on social media as compare to connections, How much time other users spent while viewing profile or reading articles posted by a perticular user, How often users return to follow up with the new posts of a perticular user, Is user able to get views from diverse region,occupation users etc.\"\n",
    "---"
   ]
  },
  {
   "cell_type": "markdown",
   "metadata": {},
   "source": [
    "#### Lets fetch the data for Internal & External profile views"
   ]
  },
  {
   "cell_type": "code",
   "execution_count": 52,
   "metadata": {},
   "outputs": [
    {
     "name": "stdout",
     "output_type": "stream",
     "text": [
      "Internal view Data\n"
     ]
    },
    {
     "data": {
      "text/html": [
       "<div>\n",
       "<style>\n",
       "    .dataframe thead tr:only-child th {\n",
       "        text-align: right;\n",
       "    }\n",
       "\n",
       "    .dataframe thead th {\n",
       "        text-align: left;\n",
       "    }\n",
       "\n",
       "    .dataframe tbody tr th {\n",
       "        vertical-align: top;\n",
       "    }\n",
       "</style>\n",
       "<table border=\"1\" class=\"dataframe\">\n",
       "  <thead>\n",
       "    <tr style=\"text-align: right;\">\n",
       "      <th></th>\n",
       "      <th>User-ID</th>\n",
       "      <th>First Name</th>\n",
       "      <th>Last Name</th>\n",
       "      <th>age</th>\n",
       "      <th>region</th>\n",
       "      <th>Views</th>\n",
       "    </tr>\n",
       "  </thead>\n",
       "  <tbody>\n",
       "    <tr>\n",
       "      <th>0</th>\n",
       "      <td>1740253</td>\n",
       "      <td>Tommy</td>\n",
       "      <td>Proulx</td>\n",
       "      <td>20</td>\n",
       "      <td>Northeast</td>\n",
       "      <td>406</td>\n",
       "    </tr>\n",
       "    <tr>\n",
       "      <th>1</th>\n",
       "      <td>2185215</td>\n",
       "      <td>Adam</td>\n",
       "      <td>Towns</td>\n",
       "      <td>21</td>\n",
       "      <td>Midwest</td>\n",
       "      <td>383</td>\n",
       "    </tr>\n",
       "    <tr>\n",
       "      <th>2</th>\n",
       "      <td>2632343</td>\n",
       "      <td>Diane</td>\n",
       "      <td>Holland</td>\n",
       "      <td>24</td>\n",
       "      <td>South</td>\n",
       "      <td>180</td>\n",
       "    </tr>\n",
       "    <tr>\n",
       "      <th>3</th>\n",
       "      <td>1287442</td>\n",
       "      <td>Edna</td>\n",
       "      <td>Castillo</td>\n",
       "      <td>29</td>\n",
       "      <td>Midwest</td>\n",
       "      <td>88</td>\n",
       "    </tr>\n",
       "    <tr>\n",
       "      <th>4</th>\n",
       "      <td>3086119</td>\n",
       "      <td>Savannah</td>\n",
       "      <td>Murphy</td>\n",
       "      <td>21</td>\n",
       "      <td>Northeast</td>\n",
       "      <td>88</td>\n",
       "    </tr>\n",
       "  </tbody>\n",
       "</table>\n",
       "</div>"
      ],
      "text/plain": [
       "   User-ID First Name Last Name  age     region  Views\n",
       "0  1740253      Tommy    Proulx   20  Northeast    406\n",
       "1  2185215       Adam     Towns   21    Midwest    383\n",
       "2  2632343      Diane   Holland   24      South    180\n",
       "3  1287442       Edna  Castillo   29    Midwest     88\n",
       "4  3086119   Savannah    Murphy   21  Northeast     88"
      ]
     },
     "metadata": {},
     "output_type": "display_data"
    },
    {
     "name": "stdout",
     "output_type": "stream",
     "text": [
      "-----------------------------------------------------------------------\n",
      "External view Data\n"
     ]
    },
    {
     "data": {
      "text/html": [
       "<div>\n",
       "<style>\n",
       "    .dataframe thead tr:only-child th {\n",
       "        text-align: right;\n",
       "    }\n",
       "\n",
       "    .dataframe thead th {\n",
       "        text-align: left;\n",
       "    }\n",
       "\n",
       "    .dataframe tbody tr th {\n",
       "        vertical-align: top;\n",
       "    }\n",
       "</style>\n",
       "<table border=\"1\" class=\"dataframe\">\n",
       "  <thead>\n",
       "    <tr style=\"text-align: right;\">\n",
       "      <th></th>\n",
       "      <th>User-ID</th>\n",
       "      <th>url</th>\n",
       "      <th>View_count</th>\n",
       "      <th>firstname</th>\n",
       "      <th>lastname</th>\n",
       "      <th>age</th>\n",
       "      <th>region</th>\n",
       "      <th>title</th>\n",
       "      <th>age_group</th>\n",
       "    </tr>\n",
       "  </thead>\n",
       "  <tbody>\n",
       "    <tr>\n",
       "      <th>193057</th>\n",
       "      <td>2871984</td>\n",
       "      <td>/pub/patricia-valenzuela</td>\n",
       "      <td>1124</td>\n",
       "      <td>Patricia</td>\n",
       "      <td>Valenzuela</td>\n",
       "      <td>44.0</td>\n",
       "      <td>Other</td>\n",
       "      <td>Student</td>\n",
       "      <td>(40, 50]</td>\n",
       "    </tr>\n",
       "    <tr>\n",
       "      <th>193058</th>\n",
       "      <td>3172400</td>\n",
       "      <td>/pub/patricia-valenzuela</td>\n",
       "      <td>1124</td>\n",
       "      <td>Patricia</td>\n",
       "      <td>Valenzuela</td>\n",
       "      <td>29.0</td>\n",
       "      <td>Northeast</td>\n",
       "      <td>Full prof.</td>\n",
       "      <td>(20, 30]</td>\n",
       "    </tr>\n",
       "    <tr>\n",
       "      <th>193841</th>\n",
       "      <td>3197557</td>\n",
       "      <td>/cv/clayton-ritchie</td>\n",
       "      <td>764</td>\n",
       "      <td>Clayton</td>\n",
       "      <td>Ritchie</td>\n",
       "      <td>85.0</td>\n",
       "      <td>Midwest</td>\n",
       "      <td>Full prof.</td>\n",
       "      <td>(80, 90]</td>\n",
       "    </tr>\n",
       "    <tr>\n",
       "      <th>222207</th>\n",
       "      <td>3766973</td>\n",
       "      <td>/cv/jose-vawter</td>\n",
       "      <td>506</td>\n",
       "      <td>Jose</td>\n",
       "      <td>Vawter</td>\n",
       "      <td>26.0</td>\n",
       "      <td>South</td>\n",
       "      <td>Ass.Prof.</td>\n",
       "      <td>(20, 30]</td>\n",
       "    </tr>\n",
       "    <tr>\n",
       "      <th>183428</th>\n",
       "      <td>2960427</td>\n",
       "      <td>/pub/peter-montgomery</td>\n",
       "      <td>496</td>\n",
       "      <td>Peter</td>\n",
       "      <td>Montgomery</td>\n",
       "      <td>31.0</td>\n",
       "      <td>South</td>\n",
       "      <td>Full prof.</td>\n",
       "      <td>(30, 40]</td>\n",
       "    </tr>\n",
       "  </tbody>\n",
       "</table>\n",
       "</div>"
      ],
      "text/plain": [
       "        User-ID                       url  View_count firstname    lastname  \\\n",
       "193057  2871984  /pub/patricia-valenzuela        1124  Patricia  Valenzuela   \n",
       "193058  3172400  /pub/patricia-valenzuela        1124  Patricia  Valenzuela   \n",
       "193841  3197557       /cv/clayton-ritchie         764   Clayton     Ritchie   \n",
       "222207  3766973           /cv/jose-vawter         506      Jose      Vawter   \n",
       "183428  2960427     /pub/peter-montgomery         496     Peter  Montgomery   \n",
       "\n",
       "         age     region       title age_group  \n",
       "193057  44.0      Other     Student  (40, 50]  \n",
       "193058  29.0  Northeast  Full prof.  (20, 30]  \n",
       "193841  85.0    Midwest  Full prof.  (80, 90]  \n",
       "222207  26.0      South   Ass.Prof.  (20, 30]  \n",
       "183428  31.0      South  Full prof.  (30, 40]  "
      ]
     },
     "metadata": {},
     "output_type": "display_data"
    }
   ],
   "source": [
    "query=(\"select viewed_user_id,firstname,lastname,age,region,count(viewed_user_id) as views from internal_profile_views inner join users on viewed_user_id=users.id group by viewed_user_id order by views desc\")\n",
    "cursor.execute(query)\n",
    "Internal_data=pd.DataFrame(cursor.fetchall(),columns=['User-ID','First Name','Last Name','age','region','Views'])\n",
    "Internal_data=Internal_data.sort_values(by='Views',ascending=False)\n",
    "External_data=External_data.sort_values(by='View_count',ascending=False)\n",
    "from IPython.display import display\n",
    "print(\"Internal view Data\")\n",
    "display(Internal_data.head())\n",
    "print(\"-----------------------------------------------------------------------\")\n",
    "print(\"External view Data\")\n",
    "display(External_data.head())"
   ]
  },
  {
   "cell_type": "markdown",
   "metadata": {},
   "source": [
    "#### Lets fetch the data for External profile views"
   ]
  },
  {
   "cell_type": "code",
   "execution_count": 53,
   "metadata": {},
   "outputs": [
    {
     "data": {
      "image/png": "[encoded data removed]",
      "text/plain": [
       "<matplotlib.figure.Figure at 0x1264ca590>"
      ]
     },
     "metadata": {},
     "output_type": "display_data"
    }
   ],
   "source": [
    "plt.title('Top External(green) vs Top Internal(blue) views')\n",
    "Top_Views=range(1,26)\n",
    "sns.pointplot(Top_Views,External_data['View_count'][0:25],color='green')\n",
    "sns.pointplot(Top_Views,Internal_data['Views'][0:25])\n",
    "plt.show()"
   ]
  },
  {
   "cell_type": "markdown",
   "metadata": {},
   "source": [
    "### Now we are going to combine internal_views & external views DataFrame & create a new RANK feature(Higher Rank means Good) which is sum of the both internal & external views (if any of these views data is missing for any use we will assume it as 0)"
   ]
  },
  {
   "cell_type": "code",
   "execution_count": 54,
   "metadata": {
    "collapsed": true
   },
   "outputs": [],
   "source": [
    "#create an empty View_Rank DataFrame\n",
    "View_Rank=pd.DataFrame(columns=['User-ID','Rank'])\n",
    "#Initialize all Rank to 0\n",
    "View_Rank['Rank']=np.zeros(600001)\n",
    "View_Rank\n",
    "#get all the user-ids\n",
    "query=(\"select id from users\")\n",
    "cursor.execute(query)\n",
    "temp=pd.DataFrame(cursor.fetchall(),columns=['id'])\n",
    "View_Rank['User-ID']=temp"
   ]
  },
  {
   "cell_type": "code",
   "execution_count": 55,
   "metadata": {},
   "outputs": [
    {
     "data": {
      "text/html": [
       "<div>\n",
       "<style>\n",
       "    .dataframe thead tr:only-child th {\n",
       "        text-align: right;\n",
       "    }\n",
       "\n",
       "    .dataframe thead th {\n",
       "        text-align: left;\n",
       "    }\n",
       "\n",
       "    .dataframe tbody tr th {\n",
       "        vertical-align: top;\n",
       "    }\n",
       "</style>\n",
       "<table border=\"1\" class=\"dataframe\">\n",
       "  <thead>\n",
       "    <tr style=\"text-align: right;\">\n",
       "      <th></th>\n",
       "      <th>User-ID</th>\n",
       "      <th>Rank</th>\n",
       "      <th>Internal_views</th>\n",
       "      <th>External_views</th>\n",
       "    </tr>\n",
       "  </thead>\n",
       "  <tbody>\n",
       "    <tr>\n",
       "      <th>0</th>\n",
       "      <td>2871984</td>\n",
       "      <td>1124.0</td>\n",
       "      <td>0.0</td>\n",
       "      <td>1124.0</td>\n",
       "    </tr>\n",
       "    <tr>\n",
       "      <th>1</th>\n",
       "      <td>3172400</td>\n",
       "      <td>1124.0</td>\n",
       "      <td>0.0</td>\n",
       "      <td>1124.0</td>\n",
       "    </tr>\n",
       "    <tr>\n",
       "      <th>2</th>\n",
       "      <td>3197557</td>\n",
       "      <td>764.0</td>\n",
       "      <td>0.0</td>\n",
       "      <td>764.0</td>\n",
       "    </tr>\n",
       "    <tr>\n",
       "      <th>3</th>\n",
       "      <td>3766973</td>\n",
       "      <td>506.0</td>\n",
       "      <td>0.0</td>\n",
       "      <td>506.0</td>\n",
       "    </tr>\n",
       "    <tr>\n",
       "      <th>4</th>\n",
       "      <td>2960427</td>\n",
       "      <td>496.0</td>\n",
       "      <td>0.0</td>\n",
       "      <td>496.0</td>\n",
       "    </tr>\n",
       "    <tr>\n",
       "      <th>5</th>\n",
       "      <td>2619727</td>\n",
       "      <td>431.0</td>\n",
       "      <td>0.0</td>\n",
       "      <td>431.0</td>\n",
       "    </tr>\n",
       "    <tr>\n",
       "      <th>6</th>\n",
       "      <td>1933239</td>\n",
       "      <td>428.0</td>\n",
       "      <td>0.0</td>\n",
       "      <td>428.0</td>\n",
       "    </tr>\n",
       "    <tr>\n",
       "      <th>7</th>\n",
       "      <td>1740253</td>\n",
       "      <td>406.0</td>\n",
       "      <td>406.0</td>\n",
       "      <td>0.0</td>\n",
       "    </tr>\n",
       "    <tr>\n",
       "      <th>8</th>\n",
       "      <td>2644348</td>\n",
       "      <td>399.0</td>\n",
       "      <td>0.0</td>\n",
       "      <td>399.0</td>\n",
       "    </tr>\n",
       "    <tr>\n",
       "      <th>9</th>\n",
       "      <td>2185215</td>\n",
       "      <td>385.0</td>\n",
       "      <td>383.0</td>\n",
       "      <td>2.0</td>\n",
       "    </tr>\n",
       "  </tbody>\n",
       "</table>\n",
       "</div>"
      ],
      "text/plain": [
       "   User-ID    Rank  Internal_views  External_views\n",
       "0  2871984  1124.0             0.0          1124.0\n",
       "1  3172400  1124.0             0.0          1124.0\n",
       "2  3197557   764.0             0.0           764.0\n",
       "3  3766973   506.0             0.0           506.0\n",
       "4  2960427   496.0             0.0           496.0\n",
       "5  2619727   431.0             0.0           431.0\n",
       "6  1933239   428.0             0.0           428.0\n",
       "7  1740253   406.0           406.0             0.0\n",
       "8  2644348   399.0             0.0           399.0\n",
       "9  2185215   385.0           383.0             2.0"
      ]
     },
     "execution_count": 55,
     "metadata": {},
     "output_type": "execute_result"
    }
   ],
   "source": [
    "View_Rank=pd.merge(View_Rank,Internal_data,on='User-ID',how='left')\n",
    "View_Rank['Internal_views']=View_Rank['Views']\n",
    "del View_Rank['First Name']\n",
    "del View_Rank['Last Name']\n",
    "del View_Rank['age']\n",
    "del View_Rank['region']\n",
    "del View_Rank['Views']\n",
    "\n",
    "View_Rank=pd.merge(View_Rank,External_data,on='User-ID',how='left')\n",
    "View_Rank['External_views']=View_Rank['View_count']\n",
    "del View_Rank['url']\n",
    "del View_Rank['View_count']\n",
    "del View_Rank['firstname']\n",
    "del View_Rank['lastname']\n",
    "del View_Rank['age']\n",
    "del View_Rank['region']\n",
    "del View_Rank['title']\n",
    "del View_Rank['age_group']\n",
    "\n",
    "View_Rank=View_Rank.fillna(0)\n",
    "View_Rank['Rank']=View_Rank['Internal_views']+View_Rank['External_views']\n",
    "View_Rank=View_Rank.sort_values(by=['Rank'],ascending=False)\n",
    "View_Rank = View_Rank.reset_index(drop=True)\n",
    "View_Rank.head(10)"
   ]
  },
  {
   "cell_type": "code",
   "execution_count": 56,
   "metadata": {},
   "outputs": [
    {
     "data": {
      "image/png": "[encoded data removed]",
      "text/plain": [
       "<matplotlib.figure.Figure at 0x127787fd0>"
      ]
     },
     "metadata": {},
     "output_type": "display_data"
    }
   ],
   "source": [
    "plt.title('Top Ranks Users')\n",
    "data=pd.DataFrame(columns=['User-ID','Rank'])\n",
    "data['User-ID']=View_Rank['User-ID'][0:10]\n",
    "data['Rank']=View_Rank['Rank'][0:10]\n",
    "sns.barplot(data['User-ID'],data['Rank'])\n",
    "plt.show()"
   ]
  },
  {
   "cell_type": "markdown",
   "metadata": {},
   "source": [
    "### 3) Summary\n",
    "###  3.1) Important Insights"
   ]
  },
  {
   "cell_type": "markdown",
   "metadata": {},
   "source": [
    "#### -> Age Distribution of users across all 5 region very similar  (1.1 figure)\n",
    "#### -> 79% of our users are student or postdoctoral_assitants   (1.2 figure)\n",
    "#### -> User's from Northeast & Midwest are more active & received the most internal views from every region (1.5 figure)\n",
    "#### -> Users of all age group are interested in other users of all age group (2.1.2 figure)\n",
    "#### -> Full professor is the most viewed title internally alothough we have only 3.2% of professors in our dataset (2.1.1 figure)\n",
    "#### -> most views are recoded in the night (1 am to 5am). users are most active from late night to early morning (2.1.5 figure)\n",
    "#### -> User's from Northeast & West(Midwest is also very close to west) received the most External views from every region (2.2.2 fig)\n",
    "#### -> Student & PD Asst. are most viewed titles externally (2.2.3 fig)\n",
    "#### -> age group between 20-30 years brings most external traffic (2.2.4 fig)\n",
    "#### -> Number of Top External views are way more then Internal views (2.3 fig)\n",
    "---\n",
    "## 3.2) Improvements in data\n",
    "\n",
    "#### -> Most of the internal views data was gather on 2014-01-01, In order to apply time series models to predict user's behaviour we need this data to be collected on continuous & much larger timeline.\n",
    "#### -> timestamp for external views data.\n",
    "#### -> Activity logs of each user so that we know which activites of users are drawing more attention or we will know if user is doing someting wrong to get higher rank\n",
    "#### -> connection details of the users (how long users are connected to each other, how often user is loosing connections, how fast user is gaining new connections )\n",
    "#### -> How long a visitor stayed on the user's profile\n",
    "#### -> How interective visitor's are on the posts of a users(ex.- number of comments of visitors on a user's post )\n",
    "#### -> How responsive a users is on the comments or queries of visitors  (does user respond to visitors )\n",
    "---\n",
    "## 3.3) Moving ahead with product development\n",
    "\n",
    "we need to build a much complex alorithm for calculating the perfect rank for each user. ofcourse external & internal views are important parameter for Rank but we need to develop some more important fetures by collectiong new & more insightful data such as mentioned in 3.2).\n",
    "\n",
    "so future steps would be :\n",
    "\n",
    "#### -> collect more meaningful data  (look beyond internal & external views such as activity log)\n",
    "#### -> ensure correctness & completness of collected data\n",
    "#### -> build diverse set of Features on top of this data\n",
    "#### -> Find Importance of each of these features \n",
    "#### -> assign weights to each of this features depending on importance (not every feature should contribute equally in calcuating the final rank)\n",
    "#### -> calculate the final rank feature(example: c1*(feature1)+c2*(feature2)-c3*(feature3)......)\n",
    "#### -> find out the ways in which a user can cheat our alorithm to gain higher rank\n",
    "#### -> keep improving our algorithm based on the new data & improvements in social network over time\n",
    " \n"
   ]
  },
  {
   "cell_type": "code",
   "execution_count": null,
   "metadata": {
    "collapsed": true
   },
   "outputs": [],
   "source": []
  }
 ],
 "metadata": {
  "kernelspec": {
   "display_name": "Python 2",
   "language": "python",
   "name": "python2"
  },
  "language_info": {
   "codemirror_mode": {
    "name": "ipython",
    "version": 2
   },
   "file_extension": ".py",
   "mimetype": "text/x-python",
   "name": "python",
   "nbconvert_exporter": "python",
   "pygments_lexer": "ipython2",
   "version": "2.7.13"
  }
 },
 "nbformat": 4,
 "nbformat_minor": 2
}
